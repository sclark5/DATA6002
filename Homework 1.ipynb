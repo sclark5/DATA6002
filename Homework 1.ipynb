{
 "cells": [
  {
   "cell_type": "code",
   "execution_count": 1,
   "metadata": {},
   "outputs": [],
   "source": [
    "#import libaries \n",
    "import pandas as pd\n",
    "import numpy as np\n",
    "import seaborn as sns\n",
    "import matplotlib as plt\n",
    "import operator\n",
    "from itertools import combinations\n",
    "from sklearn.model_selection import train_test_split\n",
    "from sklearn.metrics import mean_squared_error\n",
    "from sklearn.linear_model import LinearRegression\n",
    "from sklearn.neighbors import KNeighborsRegressor"
   ]
  },
  {
   "cell_type": "code",
   "execution_count": 2,
   "metadata": {},
   "outputs": [
    {
     "data": {
      "text/html": [
       "<div>\n",
       "<style scoped>\n",
       "    .dataframe tbody tr th:only-of-type {\n",
       "        vertical-align: middle;\n",
       "    }\n",
       "\n",
       "    .dataframe tbody tr th {\n",
       "        vertical-align: top;\n",
       "    }\n",
       "\n",
       "    .dataframe thead th {\n",
       "        text-align: right;\n",
       "    }\n",
       "</style>\n",
       "<table border=\"1\" class=\"dataframe\">\n",
       "  <thead>\n",
       "    <tr style=\"text-align: right;\">\n",
       "      <th></th>\n",
       "      <th>Id</th>\n",
       "      <th>MSSubClass</th>\n",
       "      <th>LotFrontage</th>\n",
       "      <th>LotArea</th>\n",
       "      <th>OverallQual</th>\n",
       "      <th>OverallCond</th>\n",
       "      <th>YearBuilt</th>\n",
       "      <th>YearRemodAdd</th>\n",
       "      <th>MasVnrArea</th>\n",
       "      <th>ExterQual</th>\n",
       "      <th>...</th>\n",
       "      <th>GarageType_NA</th>\n",
       "      <th>SaleType_COD</th>\n",
       "      <th>SaleType_CWD</th>\n",
       "      <th>SaleType_Con</th>\n",
       "      <th>SaleType_ConLD</th>\n",
       "      <th>SaleType_ConLI</th>\n",
       "      <th>SaleType_ConLw</th>\n",
       "      <th>SaleType_New</th>\n",
       "      <th>SaleType_Oth</th>\n",
       "      <th>SaleType_WD</th>\n",
       "    </tr>\n",
       "  </thead>\n",
       "  <tbody>\n",
       "    <tr>\n",
       "      <th>0</th>\n",
       "      <td>1</td>\n",
       "      <td>60</td>\n",
       "      <td>65.0</td>\n",
       "      <td>8450</td>\n",
       "      <td>7</td>\n",
       "      <td>5</td>\n",
       "      <td>2003</td>\n",
       "      <td>2003</td>\n",
       "      <td>196.0</td>\n",
       "      <td>Gd</td>\n",
       "      <td>...</td>\n",
       "      <td>0</td>\n",
       "      <td>0</td>\n",
       "      <td>0</td>\n",
       "      <td>0</td>\n",
       "      <td>0</td>\n",
       "      <td>0</td>\n",
       "      <td>0</td>\n",
       "      <td>0</td>\n",
       "      <td>0</td>\n",
       "      <td>1</td>\n",
       "    </tr>\n",
       "    <tr>\n",
       "      <th>1</th>\n",
       "      <td>2</td>\n",
       "      <td>20</td>\n",
       "      <td>80.0</td>\n",
       "      <td>9600</td>\n",
       "      <td>6</td>\n",
       "      <td>8</td>\n",
       "      <td>1976</td>\n",
       "      <td>1976</td>\n",
       "      <td>0.0</td>\n",
       "      <td>TA</td>\n",
       "      <td>...</td>\n",
       "      <td>0</td>\n",
       "      <td>0</td>\n",
       "      <td>0</td>\n",
       "      <td>0</td>\n",
       "      <td>0</td>\n",
       "      <td>0</td>\n",
       "      <td>0</td>\n",
       "      <td>0</td>\n",
       "      <td>0</td>\n",
       "      <td>1</td>\n",
       "    </tr>\n",
       "    <tr>\n",
       "      <th>2</th>\n",
       "      <td>3</td>\n",
       "      <td>60</td>\n",
       "      <td>68.0</td>\n",
       "      <td>11250</td>\n",
       "      <td>7</td>\n",
       "      <td>5</td>\n",
       "      <td>2001</td>\n",
       "      <td>2002</td>\n",
       "      <td>162.0</td>\n",
       "      <td>Gd</td>\n",
       "      <td>...</td>\n",
       "      <td>0</td>\n",
       "      <td>0</td>\n",
       "      <td>0</td>\n",
       "      <td>0</td>\n",
       "      <td>0</td>\n",
       "      <td>0</td>\n",
       "      <td>0</td>\n",
       "      <td>0</td>\n",
       "      <td>0</td>\n",
       "      <td>1</td>\n",
       "    </tr>\n",
       "    <tr>\n",
       "      <th>3</th>\n",
       "      <td>4</td>\n",
       "      <td>70</td>\n",
       "      <td>60.0</td>\n",
       "      <td>9550</td>\n",
       "      <td>7</td>\n",
       "      <td>5</td>\n",
       "      <td>1915</td>\n",
       "      <td>1970</td>\n",
       "      <td>0.0</td>\n",
       "      <td>TA</td>\n",
       "      <td>...</td>\n",
       "      <td>0</td>\n",
       "      <td>0</td>\n",
       "      <td>0</td>\n",
       "      <td>0</td>\n",
       "      <td>0</td>\n",
       "      <td>0</td>\n",
       "      <td>0</td>\n",
       "      <td>0</td>\n",
       "      <td>0</td>\n",
       "      <td>1</td>\n",
       "    </tr>\n",
       "    <tr>\n",
       "      <th>4</th>\n",
       "      <td>5</td>\n",
       "      <td>60</td>\n",
       "      <td>84.0</td>\n",
       "      <td>14260</td>\n",
       "      <td>8</td>\n",
       "      <td>5</td>\n",
       "      <td>2000</td>\n",
       "      <td>2000</td>\n",
       "      <td>350.0</td>\n",
       "      <td>Gd</td>\n",
       "      <td>...</td>\n",
       "      <td>0</td>\n",
       "      <td>0</td>\n",
       "      <td>0</td>\n",
       "      <td>0</td>\n",
       "      <td>0</td>\n",
       "      <td>0</td>\n",
       "      <td>0</td>\n",
       "      <td>0</td>\n",
       "      <td>0</td>\n",
       "      <td>1</td>\n",
       "    </tr>\n",
       "  </tbody>\n",
       "</table>\n",
       "<p>5 rows × 238 columns</p>\n",
       "</div>"
      ],
      "text/plain": [
       "   Id  MSSubClass  LotFrontage  LotArea  OverallQual  OverallCond  YearBuilt  \\\n",
       "0   1          60         65.0     8450            7            5       2003   \n",
       "1   2          20         80.0     9600            6            8       1976   \n",
       "2   3          60         68.0    11250            7            5       2001   \n",
       "3   4          70         60.0     9550            7            5       1915   \n",
       "4   5          60         84.0    14260            8            5       2000   \n",
       "\n",
       "   YearRemodAdd  MasVnrArea ExterQual  ... GarageType_NA SaleType_COD  \\\n",
       "0          2003       196.0        Gd  ...             0            0   \n",
       "1          1976         0.0        TA  ...             0            0   \n",
       "2          2002       162.0        Gd  ...             0            0   \n",
       "3          1970         0.0        TA  ...             0            0   \n",
       "4          2000       350.0        Gd  ...             0            0   \n",
       "\n",
       "  SaleType_CWD SaleType_Con SaleType_ConLD  SaleType_ConLI SaleType_ConLw  \\\n",
       "0            0            0              0               0              0   \n",
       "1            0            0              0               0              0   \n",
       "2            0            0              0               0              0   \n",
       "3            0            0              0               0              0   \n",
       "4            0            0              0               0              0   \n",
       "\n",
       "   SaleType_New  SaleType_Oth  SaleType_WD  \n",
       "0             0             0            1  \n",
       "1             0             0            1  \n",
       "2             0             0            1  \n",
       "3             0             0            1  \n",
       "4             0             0            1  \n",
       "\n",
       "[5 rows x 238 columns]"
      ]
     },
     "execution_count": 2,
     "metadata": {},
     "output_type": "execute_result"
    }
   ],
   "source": [
    "#import data\n",
    "housing = pd.read_csv('/Users/samuelclark/Documents/UMBC Data Science /Machine learning/Homework/housing_processed.csv')\n",
    "housing.head()"
   ]
  },
  {
   "cell_type": "code",
   "execution_count": 3,
   "metadata": {},
   "outputs": [
    {
     "data": {
      "text/plain": [
       "ExterQual       object\n",
       "ExterCond       object\n",
       "BsmtQual        object\n",
       "BsmtCond        object\n",
       "BsmtExposure    object\n",
       "BsmtFinType1    object\n",
       "BsmtFinType2    object\n",
       "HeatingQC       object\n",
       "CentralAir      object\n",
       "KitchenQual     object\n",
       "Functional      object\n",
       "FireplaceQu     object\n",
       "GarageFinish    object\n",
       "GarageQual      object\n",
       "GarageCond      object\n",
       "PavedDrive      object\n",
       "dtype: object"
      ]
     },
     "execution_count": 3,
     "metadata": {},
     "output_type": "execute_result"
    }
   ],
   "source": [
    "#data exploration\n",
    "housing.dtypes[housing.dtypes==object]"
   ]
  },
  {
   "cell_type": "code",
   "execution_count": 4,
   "metadata": {},
   "outputs": [],
   "source": [
    "#dropping non numeric columns\n",
    "housing_ml = housing.loc[:,housing.dtypes != object]"
   ]
  },
  {
   "cell_type": "code",
   "execution_count": 5,
   "metadata": {},
   "outputs": [],
   "source": [
    "# Split data as features and target\n",
    "# take \"SalePrice\" values into its own 1-D array \n",
    "sale_price = housing_ml.pop('SalePrice')\n",
    "\n",
    "#converting to np arrays from pandas DF\n",
    "y = sale_price.to_numpy(dtype = int)\n",
    "X = housing_ml.to_numpy(dtype = int)"
   ]
  },
  {
   "cell_type": "code",
   "execution_count": 6,
   "metadata": {},
   "outputs": [
    {
     "name": "stdout",
     "output_type": "stream",
     "text": [
      "(1168, 221) (1168,) (292, 221) (292,)\n",
      "2 1 2 1\n"
     ]
    }
   ],
   "source": [
    "#text train split\n",
    "x_train, x_test, y_train, y_test = train_test_split(X, y, train_size = .8, random_state = 21)\n",
    "\n",
    "print(x_train.shape, y_train.shape, x_test.shape, y_test.shape)\n",
    "print(x_train.ndim, y_train.ndim, x_test.ndim, y_test.ndim)\n"
   ]
  },
  {
   "cell_type": "code",
   "execution_count": 7,
   "metadata": {},
   "outputs": [
    {
     "data": {
      "text/plain": [
       "35623.30345000818"
      ]
     },
     "execution_count": 7,
     "metadata": {},
     "output_type": "execute_result"
    }
   ],
   "source": [
    "#model with all features\n",
    "model_all = LinearRegression().fit(x_train, y_train)\n",
    "y_pred = model_all.predict(x_test)\n",
    "rmse_all = mean_squared_error(y_test, y_pred, squared = False)\n",
    "rmse_all"
   ]
  },
  {
   "cell_type": "code",
   "execution_count": 8,
   "metadata": {},
   "outputs": [
    {
     "data": {
      "text/plain": [
       "51966.07983368139"
      ]
     },
     "execution_count": 8,
     "metadata": {},
     "output_type": "execute_result"
    }
   ],
   "source": [
    "#5NN regression all features\n",
    "model_5nn = KNeighborsRegressor(n_neighbors=5).fit(x_train, y_train)\n",
    "y_pred = model_5nn.predict(x_test)\n",
    "rmse_5nn = mean_squared_error(y_test, y_pred, squared = False)\n",
    "rmse_5nn"
   ]
  },
  {
   "cell_type": "code",
   "execution_count": 9,
   "metadata": {},
   "outputs": [
    {
     "data": {
      "text/plain": [
       "52392.16317256475"
      ]
     },
     "execution_count": 9,
     "metadata": {},
     "output_type": "execute_result"
    }
   ],
   "source": [
    "#10NN regression all features\n",
    "model_10nn = KNeighborsRegressor(n_neighbors=10).fit(x_train, y_train)\n",
    "y_pred = model_10nn.predict(x_test)\n",
    "rmse_10nn = mean_squared_error(y_test, y_pred, squared = False)\n",
    "rmse_10nn"
   ]
  },
  {
   "cell_type": "code",
   "execution_count": 10,
   "metadata": {},
   "outputs": [
    {
     "data": {
      "text/plain": [
       "[['OverallQual', 0.6454631197278844, 49018.43578812499, 4],\n",
       " ['ExterQual_Coded', 0.4991753471267155, 58260.148655350655, 36],\n",
       " ['GrLivArea', 0.444289666781406, 61369.55515927838, 16],\n",
       " ['KitchenQual_Coded', 0.43970293723342646, 61622.30113827634, 44],\n",
       " ['TotalBsmtSF', 0.42491266111423953, 62430.33167581401, 12],\n",
       " ['1stFlrSF', 0.4166679048480356, 62876.2562386846, 13],\n",
       " ['GarageCars', 0.41193116659665807, 63131.022100901646, 25],\n",
       " ['GarageArea', 0.4073263621599067, 63377.71018105261, 26],\n",
       " ['BsmtQual_Coded', 0.340970014826262, 66831.5181312807, 38],\n",
       " ['GarageFinish_Coded', 0.3162849544224505, 68071.65468394081, 47]]"
      ]
     },
     "execution_count": 10,
     "metadata": {},
     "output_type": "execute_result"
    }
   ],
   "source": [
    "#create model and fit it to each feature (221). Then finding the top 10 performing by RSME\n",
    "rmse = []\n",
    "\n",
    "feature_list = list(housing_ml.columns)\n",
    "\n",
    "featureDict = {}\n",
    "\n",
    "for i in range(221):\n",
    "\n",
    "    x_tr = x_train[:,i].reshape(-1,1)\n",
    "    x_tst = x_test[:,i].reshape(-1,1)\n",
    "    \n",
    "    model = LinearRegression()\n",
    "    model.fit(x_tr, y_train)\n",
    "    y_pred = model.predict(x_tst)\n",
    "    \n",
    "    score = model.score(x_tst, y_test)\n",
    "    rmse = mean_squared_error(y_test, y_pred, squared=False)\n",
    "    \n",
    "    index = i\n",
    "    \n",
    "    featureDict[i] = [feature_list[i], score, rmse, index]\n",
    "\n",
    "#sorting dict\n",
    "results_sorted = sorted(featureDict.values(), key=operator.itemgetter(1), reverse=True)[:10]\n",
    "results_sorted"
   ]
  },
  {
   "cell_type": "code",
   "execution_count": 11,
   "metadata": {},
   "outputs": [
    {
     "name": "stdout",
     "output_type": "stream",
     "text": [
      "[4, 36, 16, 44, 12, 13, 25, 26, 38, 47]\n"
     ]
    }
   ],
   "source": [
    "#grabing the index of the top 10\n",
    "index_top_10 = []\n",
    "for indx in results_sorted:\n",
    "    index_top_10.append(indx[3])\n",
    "print(index_top_10)"
   ]
  },
  {
   "cell_type": "code",
   "execution_count": 12,
   "metadata": {},
   "outputs": [
    {
     "name": "stdout",
     "output_type": "stream",
     "text": [
      "[(4, 36), (4, 16), (4, 44), (4, 12), (4, 13), (4, 25), (4, 26), (4, 38), (4, 47), (36, 16), (36, 44), (36, 12), (36, 13), (36, 25), (36, 26), (36, 38), (36, 47), (16, 44), (16, 12), (16, 13), (16, 25), (16, 26), (16, 38), (16, 47), (44, 12), (44, 13), (44, 25), (44, 26), (44, 38), (44, 47), (12, 13), (12, 25), (12, 26), (12, 38), (12, 47), (13, 25), (13, 26), (13, 38), (13, 47), (25, 26), (25, 38), (25, 47), (26, 38), (26, 47), (38, 47)]\n"
     ]
    }
   ],
   "source": [
    "#combinations of the best 10\n",
    "pairs_of_two = list(combinations(index_top_10, 2))\n",
    "print(pairs_of_two)"
   ]
  },
  {
   "cell_type": "code",
   "execution_count": 16,
   "metadata": {},
   "outputs": [],
   "source": [
    "#regression models on the pair combinations \n",
    "feature_list = housing_ml.columns\n",
    "\n",
    "pairsFeatureDict = {}\n",
    "\n",
    "for two in pairs_of_two:\n",
    "    \n",
    "    i = list(two)\n",
    "        \n",
    "    x_tr = x_train[:,i]\n",
    "    x_tst = x_test[:,i]\n",
    "    \n",
    "    \n",
    "    model = LinearRegression()\n",
    "    model.fit(x_tr, y_train)\n",
    "    y_pred = model.predict(x_tst)\n",
    "    \n",
    "    score = model.score(x_tst, y_test)\n",
    "    rmse = mean_squared_error(y_test, y_pred, squared=False)\n",
    "    \n",
    "    indx = \"+\".join(list(feature_list[i]))\n",
    "    \n",
    "    pairsFeatureDict[indx] = [indx, score, rmse, i]"
   ]
  },
  {
   "cell_type": "code",
   "execution_count": 17,
   "metadata": {},
   "outputs": [
    {
     "name": "stdout",
     "output_type": "stream",
     "text": [
      "{'OverallQual+ExterQual_Coded': ['OverallQual+ExterQual_Coded', 0.6680147343521529, 47433.82463056837, [4, 36]], 'OverallQual+GrLivArea': ['OverallQual+GrLivArea', 0.6921986779040228, 45673.46700931651, [4, 16]], 'OverallQual+KitchenQual_Coded': ['OverallQual+KitchenQual_Coded', 0.6730869536074611, 47070.072304423644, [4, 44]], 'OverallQual+TotalBsmtSF': ['OverallQual+TotalBsmtSF', 0.706791108152437, 44577.66409611639, [4, 12]], 'OverallQual+1stFlrSF': ['OverallQual+1stFlrSF', 0.7173882583039417, 43764.68831784155, [4, 13]], 'OverallQual+GarageCars': ['OverallQual+GarageCars', 0.6723247870365774, 47124.910051666164, [4, 25]], 'OverallQual+GarageArea': ['OverallQual+GarageArea', 0.6813946935673894, 46468.13490082075, [4, 26]], 'OverallQual+BsmtQual_Coded': ['OverallQual+BsmtQual_Coded', 0.6566660974647345, 48237.754631121876, [4, 38]], 'OverallQual+GarageFinish_Coded': ['OverallQual+GarageFinish_Coded', 0.6519020465859777, 48571.27166300009, [4, 47]], 'ExterQual_Coded+GrLivArea': ['ExterQual_Coded+GrLivArea', 0.6347813176873234, 49751.391458782244, [36, 16]], 'ExterQual_Coded+KitchenQual_Coded': ['ExterQual_Coded+KitchenQual_Coded', 0.5614795448182023, 54515.96037613586, [36, 44]], 'ExterQual_Coded+TotalBsmtSF': ['ExterQual_Coded+TotalBsmtSF', 0.6230211980057889, 50546.04783882902, [36, 12]], 'ExterQual_Coded+1stFlrSF': ['ExterQual_Coded+1stFlrSF', 0.6364054863411375, 49640.64317074208, [36, 13]], 'ExterQual_Coded+GarageCars': ['ExterQual_Coded+GarageCars', 0.5958751919482284, 52334.30905507451, [36, 25]], 'ExterQual_Coded+GarageArea': ['ExterQual_Coded+GarageArea', 0.5993679075736751, 52107.66431927455, [36, 26]], 'ExterQual_Coded+BsmtQual_Coded': ['ExterQual_Coded+BsmtQual_Coded', 0.5450531167248085, 55527.623429146435, [36, 38]], 'ExterQual_Coded+GarageFinish_Coded': ['ExterQual_Coded+GarageFinish_Coded', 0.5502972235709233, 55206.666404704505, [36, 47]], 'GrLivArea+KitchenQual_Coded': ['GrLivArea+KitchenQual_Coded', 0.6069024711847932, 51615.35229523513, [16, 44]], 'GrLivArea+TotalBsmtSF': ['GrLivArea+TotalBsmtSF', 0.5711932027269213, 53908.78820366903, [16, 12]], 'GrLivArea+1stFlrSF': ['GrLivArea+1stFlrSF', 0.5248920905023893, 56744.6431682994, [16, 13]], 'GrLivArea+GarageCars': ['GrLivArea+GarageCars', 0.5966866179721508, 52281.74267329595, [16, 25]], 'GrLivArea+GarageArea': ['GrLivArea+GarageArea', 0.59607195218783, 52321.567242795834, [16, 26]], 'GrLivArea+BsmtQual_Coded': ['GrLivArea+BsmtQual_Coded', 0.5812685358678369, 53271.697641041275, [16, 38]], 'GrLivArea+GarageFinish_Coded': ['GrLivArea+GarageFinish_Coded', 0.5443956805719435, 55567.72996628545, [16, 47]], 'KitchenQual_Coded+TotalBsmtSF': ['KitchenQual_Coded+TotalBsmtSF', 0.5990455792408331, 52128.62170135381, [44, 12]], 'KitchenQual_Coded+1stFlrSF': ['KitchenQual_Coded+1stFlrSF', 0.5968792254270976, 52269.257275613665, [44, 13]], 'KitchenQual_Coded+GarageCars': ['KitchenQual_Coded+GarageCars', 0.567833521710212, 54119.56256292117, [44, 25]], 'KitchenQual_Coded+GarageArea': ['KitchenQual_Coded+GarageArea', 0.5574453189291628, 54766.149610801396, [44, 26]], 'KitchenQual_Coded+BsmtQual_Coded': ['KitchenQual_Coded+BsmtQual_Coded', 0.5328594837350533, 56266.83764588096, [44, 38]], 'KitchenQual_Coded+GarageFinish_Coded': ['KitchenQual_Coded+GarageFinish_Coded', 0.5254571772774448, 56710.88748137838, [44, 47]], 'TotalBsmtSF+1stFlrSF': ['TotalBsmtSF+1stFlrSF', 0.45421260952689846, 60819.16985351904, [12, 13]], 'TotalBsmtSF+GarageCars': ['TotalBsmtSF+GarageCars', 0.5573159943855633, 54774.15098357734, [12, 25]], 'TotalBsmtSF+GarageArea': ['TotalBsmtSF+GarageArea', 0.5381252811630992, 55948.807553497696, [12, 26]], 'TotalBsmtSF+BsmtQual_Coded': ['TotalBsmtSF+BsmtQual_Coded', 0.5012165203950789, 58141.3041932525, [12, 38]], 'TotalBsmtSF+GarageFinish_Coded': ['TotalBsmtSF+GarageFinish_Coded', 0.5474747523224235, 55379.6423221991, [12, 47]], '1stFlrSF+GarageCars': ['1stFlrSF+GarageCars', 0.5591145233874983, 54662.76999764083, [13, 25]], '1stFlrSF+GarageArea': ['1stFlrSF+GarageArea', 0.5422825807187135, 55696.4428896745, [13, 26]], '1stFlrSF+BsmtQual_Coded': ['1stFlrSF+BsmtQual_Coded', 0.5732205904418874, 53781.197518584886, [13, 38]], '1stFlrSF+GarageFinish_Coded': ['1stFlrSF+GarageFinish_Coded', 0.5400153833741017, 55834.21222059495, [13, 47]], 'GarageCars+GarageArea': ['GarageCars+GarageArea', 0.43290484443359156, 61995.00619703875, [25, 26]], 'GarageCars+BsmtQual_Coded': ['GarageCars+BsmtQual_Coded', 0.5190330795524087, 57093.45736087428, [25, 38]], 'GarageCars+GarageFinish_Coded': ['GarageCars+GarageFinish_Coded', 0.45935281097583003, 60532.096220070496, [25, 47]], 'GarageArea+BsmtQual_Coded': ['GarageArea+BsmtQual_Coded', 0.5228645856492856, 56865.592067913385, [26, 38]], 'GarageArea+GarageFinish_Coded': ['GarageArea+GarageFinish_Coded', 0.475748949750613, 59607.15498160584, [26, 47]], 'BsmtQual_Coded+GarageFinish_Coded': ['BsmtQual_Coded+GarageFinish_Coded', 0.44048257366049814, 61579.413429138556, [38, 47]]}\n"
     ]
    }
   ],
   "source": [
    "print(pairsFeatureDict)"
   ]
  },
  {
   "cell_type": "code",
   "execution_count": null,
   "metadata": {},
   "outputs": [],
   "source": []
  }
 ],
 "metadata": {
  "kernelspec": {
   "display_name": "Python 3 (ipykernel)",
   "language": "python",
   "name": "python3"
  },
  "language_info": {
   "codemirror_mode": {
    "name": "ipython",
    "version": 3
   },
   "file_extension": ".py",
   "mimetype": "text/x-python",
   "name": "python",
   "nbconvert_exporter": "python",
   "pygments_lexer": "ipython3",
   "version": "3.8.11"
  }
 },
 "nbformat": 4,
 "nbformat_minor": 4
}
